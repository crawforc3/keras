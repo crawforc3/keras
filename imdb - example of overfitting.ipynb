{
 "cells": [
  {
   "cell_type": "code",
   "execution_count": 1,
   "metadata": {},
   "outputs": [
    {
     "name": "stderr",
     "output_type": "stream",
     "text": [
      "Using TensorFlow backend.\n"
     ]
    }
   ],
   "source": [
    "import numpy as np\n",
    "\n",
    "import matplotlib.pyplot as plt\n",
    "\n",
    "from keras.datasets import imdb\n",
    "from keras import layers\n",
    "from keras import losses\n",
    "from keras import metrics\n",
    "from keras import models\n",
    "from keras import optimizers\n"
   ]
  },
  {
   "cell_type": "code",
   "execution_count": 2,
   "metadata": {},
   "outputs": [],
   "source": [
    "(train_data, train_labels), (test_data, test_labels) = imdb.load_data(num_words=10000)"
   ]
  },
  {
   "cell_type": "code",
   "execution_count": 3,
   "metadata": {},
   "outputs": [
    {
     "name": "stdout",
     "output_type": "stream",
     "text": [
      "[1, 608, 13, 1040, 6, 2, 733, 503, 1148, 4]\n"
     ]
    }
   ],
   "source": [
    "print(train_data[0][:10])"
   ]
  },
  {
   "cell_type": "code",
   "execution_count": 4,
   "metadata": {},
   "outputs": [],
   "source": [
    "# Prep the data\n",
    "word_index = imdb.get_word_index()\n",
    "reverse_word_index = dict([(value,key) for (key,value) in word_index.items()])\n",
    "decoded_review = ' '.join([reverse_word_index.get(i - 3, '?') for i in train_data[0]])"
   ]
  },
  {
   "cell_type": "code",
   "execution_count": 5,
   "metadata": {
    "collapsed": true
   },
   "outputs": [],
   "source": [
    "# One hot encode the list of numbers (which represent words)\n",
    "def vectorize_sequences(sequences, dimension=10000):\n",
    "    # all-zero matrix of zeros of shape (len(sequences), dimension)\n",
    "    results = np.zeros((len(sequences), dimension))\n",
    "    for i, sequence in enumerate(sequences):\n",
    "        results[i, sequence] = 1.\n",
    "    return results\n",
    "\n",
    "x_train = vectorize_sequences(train_data)\n",
    "x_test = vectorize_sequences(test_data)\n",
    "        "
   ]
  },
  {
   "cell_type": "code",
   "execution_count": 6,
   "metadata": {
    "collapsed": true
   },
   "outputs": [],
   "source": [
    "# Vectorize labels\n",
    "y_train = np.asarray(train_labels).astype('float32')\n",
    "y_test = np.asarray(test_labels).astype('float32')"
   ]
  },
  {
   "cell_type": "code",
   "execution_count": 7,
   "metadata": {},
   "outputs": [],
   "source": [
    "# Model architecture\n",
    "model = models.Sequential()\n",
    "\n",
    "#layers\n",
    "model.add(layers.Dense(16, activation='relu', input_shape=(10000,)))\n",
    "model.add(layers.Dense(16, activation='relu'))\n",
    "model.add(layers.Dense(1, activation='sigmoid'))\n",
    "\n",
    "#Optimizer, loss function, metrics \n",
    "model.compile(optimizer=optimizers.RMSprop(lr=0.001),\n",
    "              loss=losses.binary_crossentropy,\n",
    "              metrics=[metrics.binary_accuracy])"
   ]
  },
  {
   "cell_type": "code",
   "execution_count": 8,
   "metadata": {
    "collapsed": true
   },
   "outputs": [],
   "source": [
    "# Save a validation set\n",
    "x_val = x_train[:10000]\n",
    "partial_x_train = x_train[10000:]\n",
    "\n",
    "y_val = y_train[:10000]\n",
    "partial_y_train = y_train[10000:]"
   ]
  },
  {
   "cell_type": "code",
   "execution_count": 9,
   "metadata": {},
   "outputs": [
    {
     "name": "stdout",
     "output_type": "stream",
     "text": [
      "Train on 15000 samples, validate on 10000 samples\n",
      "Epoch 1/20\n",
      "15000/15000 [==============================] - 1s 90us/step - loss: 0.5000 - binary_accuracy: 0.7955 - val_loss: 0.3792 - val_binary_accuracy: 0.8706\n",
      "Epoch 2/20\n",
      "15000/15000 [==============================] - 1s 68us/step - loss: 0.2996 - binary_accuracy: 0.9079 - val_loss: 0.3206 - val_binary_accuracy: 0.8766\n",
      "Epoch 3/20\n",
      "15000/15000 [==============================] - 1s 68us/step - loss: 0.2195 - binary_accuracy: 0.9322 - val_loss: 0.3080 - val_binary_accuracy: 0.8757\n",
      "Epoch 4/20\n",
      "15000/15000 [==============================] - 1s 69us/step - loss: 0.1703 - binary_accuracy: 0.9459 - val_loss: 0.3197 - val_binary_accuracy: 0.8724\n",
      "Epoch 5/20\n",
      "15000/15000 [==============================] - 1s 69us/step - loss: 0.1378 - binary_accuracy: 0.9571 - val_loss: 0.3060 - val_binary_accuracy: 0.8790\n",
      "Epoch 6/20\n",
      "15000/15000 [==============================] - 1s 70us/step - loss: 0.1120 - binary_accuracy: 0.9652 - val_loss: 0.3235 - val_binary_accuracy: 0.8769\n",
      "Epoch 7/20\n",
      "15000/15000 [==============================] - 1s 82us/step - loss: 0.0940 - binary_accuracy: 0.9729 - val_loss: 0.3349 - val_binary_accuracy: 0.8769\n",
      "Epoch 8/20\n",
      "15000/15000 [==============================] - 1s 68us/step - loss: 0.0787 - binary_accuracy: 0.9787 - val_loss: 0.3553 - val_binary_accuracy: 0.8749\n",
      "Epoch 9/20\n",
      "15000/15000 [==============================] - 1s 67us/step - loss: 0.0607 - binary_accuracy: 0.9847 - val_loss: 0.4415 - val_binary_accuracy: 0.8585\n",
      "Epoch 10/20\n",
      "15000/15000 [==============================] - 1s 67us/step - loss: 0.0512 - binary_accuracy: 0.9885 - val_loss: 0.4077 - val_binary_accuracy: 0.8719\n",
      "Epoch 11/20\n",
      "15000/15000 [==============================] - 1s 74us/step - loss: 0.0416 - binary_accuracy: 0.9905 - val_loss: 0.4438 - val_binary_accuracy: 0.8690\n",
      "Epoch 12/20\n",
      "15000/15000 [==============================] - 1s 67us/step - loss: 0.0339 - binary_accuracy: 0.9929 - val_loss: 0.4722 - val_binary_accuracy: 0.8678\n",
      "Epoch 13/20\n",
      "15000/15000 [==============================] - 1s 67us/step - loss: 0.0257 - binary_accuracy: 0.9957 - val_loss: 0.5201 - val_binary_accuracy: 0.8635\n",
      "Epoch 14/20\n",
      "15000/15000 [==============================] - 1s 73us/step - loss: 0.0207 - binary_accuracy: 0.9965 - val_loss: 0.5400 - val_binary_accuracy: 0.8645\n",
      "Epoch 15/20\n",
      "15000/15000 [==============================] - 1s 67us/step - loss: 0.0171 - binary_accuracy: 0.9977 - val_loss: 0.5735 - val_binary_accuracy: 0.8648\n",
      "Epoch 16/20\n",
      "15000/15000 [==============================] - 1s 68us/step - loss: 0.0137 - binary_accuracy: 0.9977 - val_loss: 0.6156 - val_binary_accuracy: 0.8620\n",
      "Epoch 17/20\n",
      "15000/15000 [==============================] - 1s 73us/step - loss: 0.0076 - binary_accuracy: 0.9994 - val_loss: 0.6424 - val_binary_accuracy: 0.8623\n",
      "Epoch 18/20\n",
      "15000/15000 [==============================] - 1s 67us/step - loss: 0.0094 - binary_accuracy: 0.9985 - val_loss: 0.7092 - val_binary_accuracy: 0.8572\n",
      "Epoch 19/20\n",
      "15000/15000 [==============================] - 1s 67us/step - loss: 0.0044 - binary_accuracy: 0.9995 - val_loss: 0.7137 - val_binary_accuracy: 0.8591\n",
      "Epoch 20/20\n",
      "15000/15000 [==============================] - 1s 67us/step - loss: 0.0057 - binary_accuracy: 0.9987 - val_loss: 0.7418 - val_binary_accuracy: 0.8594\n"
     ]
    }
   ],
   "source": [
    "history = model.fit(partial_x_train, \n",
    "                    partial_y_train, \n",
    "                    epochs=20, \n",
    "                    batch_size=512,\n",
    "                    validation_data=(x_val, y_val))"
   ]
  },
  {
   "cell_type": "code",
   "execution_count": 10,
   "metadata": {},
   "outputs": [
    {
     "data": {
      "text/plain": [
       "dict_keys(['val_loss', 'val_binary_accuracy', 'loss', 'binary_accuracy'])"
      ]
     },
     "execution_count": 10,
     "metadata": {},
     "output_type": "execute_result"
    }
   ],
   "source": [
    "history_dict = history.history\n",
    "history_dict.keys()"
   ]
  },
  {
   "cell_type": "code",
   "execution_count": 11,
   "metadata": {},
   "outputs": [
    {
     "data": {
      "image/png": "[encoded data removed]",
      "text/plain": [
       "<matplotlib.figure.Figure at 0x7f9451df8240>"
      ]
     },
     "metadata": {},
     "output_type": "display_data"
    }
   ],
   "source": [
    "# Plot training and validation loss\n",
    "acc = history.history['binary_accuracy']\n",
    "val_acc = history.history['val_binary_accuracy']\n",
    "loss = history.history['loss']\n",
    "val_loss = history.history['val_loss']\n",
    "\n",
    "epochs = range(1, len(acc) + 1)\n",
    "\n",
    "plt.plot(epochs, loss, 'bo', label='Training loss')\n",
    "plt.plot(epochs, val_loss, 'b', label='Valdiation loss')\n",
    "plt.title('Training and validation loss')\n",
    "plt.xlabel('epochs')\n",
    "plt.ylabel('loss')\n",
    "plt.legend()\n",
    "\n",
    "plt.show();"
   ]
  },
  {
   "cell_type": "code",
   "execution_count": 12,
   "metadata": {},
   "outputs": [
    {
     "data": {
      "image/png": "[encoded data removed]",
      "text/plain": [
       "<matplotlib.figure.Figure at 0x7f945027f7f0>"
      ]
     },
     "metadata": {},
     "output_type": "display_data"
    }
   ],
   "source": [
    "# Plot training and validation accuracy\n",
    "plt.clf()\n",
    "\n",
    "plt.plot(epochs, acc, 'bo', label='Training accuracy')\n",
    "plt.plot(epochs, val_acc, 'b', label='Validation accuracy')\n",
    "plt.title('Training and validation accuracy')\n",
    "plt.xlabel('Epochs')\n",
    "plt.ylabel('Accuracy')\n",
    "plt.legend()\n",
    "\n",
    "plt.show();"
   ]
  }
 ],
 "metadata": {
  "kernelspec": {
   "display_name": "Python 3",
   "language": "python",
   "name": "python3"
  },
  "language_info": {
   "codemirror_mode": {
    "name": "ipython",
    "version": 3
   },
   "file_extension": ".py",
   "mimetype": "text/x-python",
   "name": "python",
   "nbconvert_exporter": "python",
   "pygments_lexer": "ipython3",
   "version": "3.6.2"
  }
 },
 "nbformat": 4,
 "nbformat_minor": 2
}
